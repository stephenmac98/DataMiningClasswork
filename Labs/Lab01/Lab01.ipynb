{
 "cells": [
  {
   "cell_type": "markdown",
   "metadata": {},
   "source": [
    "# Lab 01 Python Basics\n",
    "## Stephen Blackwell\n",
    "### 2/04/20"
   ]
  },
  {
   "cell_type": "code",
   "execution_count": 33,
   "metadata": {},
   "outputs": [
    {
     "name": "stdout",
     "output_type": "stream",
     "text": [
      "words 5\n",
      "so 2\n",
      "and 2\n",
      "little 2\n",
      "python 2\n",
      "a 2\n",
      "many 1\n",
      "time 1\n",
      "let's 1\n",
      "use 1\n",
      "to 1\n",
      "read 1\n",
      "the 1\n",
      "summarize 1\n",
      "them 1\n",
      "for 1\n",
      "us 1\n",
      "is 1\n",
      "powerful 1\n",
      "thing 1\n"
     ]
    },
    {
     "data": {
      "image/png": "[encoded data removed]",
      "text/plain": [
       "<Figure size 432x288 with 1 Axes>"
      ]
     },
     "metadata": {
      "needs_background": "light"
     },
     "output_type": "display_data"
    }
   ],
   "source": [
    "from operator import itemgetter\n",
    "import matplotlib.pyplot as plt\n",
    "\n",
    "\n",
    "#Load File\n",
    "with open('lab01_testFile.txt', 'r') as f:\n",
    "    wordCounter = {}\n",
    "    \n",
    "    #Loop lines\n",
    "    for line in f:\n",
    "        words = line.split(' ')\n",
    "        #Loop words in line\n",
    "        for word in words:\n",
    "            #Standartizing Words\n",
    "            #Remove punctuation\n",
    "            for i in range(len(word)):\n",
    "                if word[i] == '.':\n",
    "                    word = word[0:i]\n",
    "                    break\n",
    "            #Lower Case\n",
    "            word = word.lower()\n",
    "            #Adding to Dict\n",
    "            #Check if the word is already in and add to count\n",
    "            if word in wordCounter:\n",
    "                wordCounter[word] += 1\n",
    "            #Add new elements to dict\n",
    "            else:\n",
    "                wordCounter[word] = 1\n",
    "    #Create a list with the sorted dict values\n",
    "    sorted_list = sorted(wordCounter.items(), key = itemgetter(1), reverse = True)\n",
    "    \n",
    "    #Create lists for graph\n",
    "    words = []\n",
    "    counts = []\n",
    "    \n",
    "    #Print Statement\n",
    "    for item in sorted_list:\n",
    "        word = item[0]\n",
    "        count = item[1]\n",
    "        #Print Values\n",
    "        print(word, count)\n",
    "        #Add to list\n",
    "        words.append(word)\n",
    "        counts.append(count)\n",
    "        \n",
    "    #Bar Graph\n",
    "    #Create Figure\n",
    "    fig = plt.figure()\n",
    "    ax = fig.add_axes([0,0,3,1])\n",
    "    ax.bar(words, counts)\n",
    "    \n",
    "\n",
    "    \n",
    "\n",
    "\n"
   ]
  },
  {
   "cell_type": "code",
   "execution_count": null,
   "metadata": {},
   "outputs": [],
   "source": []
  },
  {
   "cell_type": "code",
   "execution_count": null,
   "metadata": {},
   "outputs": [],
   "source": []
  }
 ],
 "metadata": {
  "kernelspec": {
   "display_name": "Python [conda env:dmml] *",
   "language": "python",
   "name": "conda-env-dmml-py"
  },
  "language_info": {
   "codemirror_mode": {
    "name": "ipython",
    "version": 3
   },
   "file_extension": ".py",
   "mimetype": "text/x-python",
   "name": "python",
   "nbconvert_exporter": "python",
   "pygments_lexer": "ipython3",
   "version": "3.7.6"
  }
 },
 "nbformat": 4,
 "nbformat_minor": 4
}
