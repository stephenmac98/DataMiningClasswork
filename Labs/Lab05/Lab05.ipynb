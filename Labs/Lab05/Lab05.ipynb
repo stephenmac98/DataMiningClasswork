{
 "cells": [
  {
   "cell_type": "markdown",
   "metadata": {},
   "source": [
    "# Lab03 Pandas \n",
    "## Stephen Blackwell\n",
    "### 2/18/20"
   ]
  },
  {
   "cell_type": "markdown",
   "metadata": {},
   "source": [
    "## Part A"
   ]
  },
  {
   "cell_type": "code",
   "execution_count": 28,
   "metadata": {},
   "outputs": [],
   "source": [
    "import numpy as np\n",
    "import pandas as pd\n",
    "import matplotlib.pyplot as plt\n",
    "%matplotlib inline\n",
    "import math"
   ]
  },
  {
   "cell_type": "markdown",
   "metadata": {},
   "source": [
    "## Part B"
   ]
  },
  {
   "cell_type": "code",
   "execution_count": 8,
   "metadata": {},
   "outputs": [
    {
     "data": {
      "text/plain": [
       "{'a': 'Mr. Green killed Colonel Mustard in the study with the candlestick. Mr. Green is not a very nice fellow.',\n",
       " 'b': 'Professor Plum has a green plant in his study.',\n",
       " 'c': \"Miss Scarlett watered Professor Plum's green plant while he was away from his office last week.\"}"
      ]
     },
     "execution_count": 8,
     "metadata": {},
     "output_type": "execute_result"
    }
   ],
   "source": [
    "corpus = { \n",
    " 'a' : \"Mr. Green killed Colonel Mustard in the study with the candlestick. \\\n",
    "Mr. Green is not a very nice fellow.\",\n",
    " 'b' : \"Professor Plum has a green plant in his study.\",\n",
    " 'c' : \"Miss Scarlett watered Professor Plum's green plant while he was away \\\n",
    "from his office last week.\"\n",
    "}\n",
    "corpus"
   ]
  },
  {
   "cell_type": "markdown",
   "metadata": {},
   "source": [
    "## Part C"
   ]
  },
  {
   "cell_type": "code",
   "execution_count": 15,
   "metadata": {},
   "outputs": [],
   "source": [
    "terms = {}\n",
    "for key, val in corpus.items():\n",
    "    #termsIn = list(dict.fromkeys(val.lower().split()))\n",
    "    termsIn = val.lower().split()\n",
    "    terms[key] = termsIn"
   ]
  },
  {
   "cell_type": "markdown",
   "metadata": {},
   "source": [
    "## Part D"
   ]
  },
  {
   "cell_type": "code",
   "execution_count": 44,
   "metadata": {},
   "outputs": [
    {
     "data": {
      "text/plain": [
       "0.10526315789473684"
      ]
     },
     "execution_count": 44,
     "metadata": {},
     "output_type": "execute_result"
    }
   ],
   "source": [
    "def tf(term = \"\", doc = []):\n",
    "    count = 0\n",
    "    for t in doc:\n",
    "        if term == t:\n",
    "            count = count + 1\n",
    "    return count / len(doc)\n",
    "tf(term = \"the\", doc = terms['a'])"
   ]
  },
  {
   "cell_type": "markdown",
   "metadata": {},
   "source": [
    "## Part E"
   ]
  },
  {
   "cell_type": "code",
   "execution_count": 40,
   "metadata": {},
   "outputs": [
    {
     "data": {
      "text/plain": [
       "2.09861228866811"
      ]
     },
     "execution_count": 40,
     "metadata": {},
     "output_type": "execute_result"
    }
   ],
   "source": [
    "def idf(term = \"\", corpus = {}):\n",
    "    count = 0\n",
    "    for key in corpus.keys():\n",
    "        if tf(term = term, doc = corpus[key]) > 0:\n",
    "            count = count + 1\n",
    "    return (math.log(len(corpus.keys()) / count)) + 1\n",
    "idf(term = 'the', corpus = terms)"
   ]
  },
  {
   "cell_type": "markdown",
   "metadata": {},
   "source": [
    "## Part F"
   ]
  },
  {
   "cell_type": "code",
   "execution_count": 41,
   "metadata": {},
   "outputs": [
    {
     "data": {
      "text/plain": [
       "4.19722457733622"
      ]
     },
     "execution_count": 41,
     "metadata": {},
     "output_type": "execute_result"
    }
   ],
   "source": [
    "def tf_idf(term = \"\", doc = [], corpus = {}):\n",
    "    return tf(term = term, doc = doc) * idf(term = term, corpus = corpus)\n",
    "tf_idf(term = \"the\", doc = terms['a'], corpus = terms)"
   ]
  },
  {
   "cell_type": "markdown",
   "metadata": {},
   "source": [
    "## Part G"
   ]
  },
  {
   "cell_type": "markdown",
   "metadata": {},
   "source": [
    "### 1"
   ]
  },
  {
   "cell_type": "code",
   "execution_count": 45,
   "metadata": {},
   "outputs": [
    {
     "name": "stdout",
     "output_type": "stream",
     "text": [
      "a\n",
      "0.10526315789473684\n",
      "b\n",
      "0.0\n",
      "c\n",
      "0.0\n"
     ]
    }
   ],
   "source": [
    "for key in terms.keys():\n",
    "    print(key)\n",
    "    print(tf(term = \"mr.\", doc = terms[key]))"
   ]
  },
  {
   "cell_type": "markdown",
   "metadata": {},
   "source": [
    "## 2"
   ]
  },
  {
   "cell_type": "code",
   "execution_count": 46,
   "metadata": {},
   "outputs": [
    {
     "data": {
      "text/plain": [
       "2.09861228866811"
      ]
     },
     "execution_count": 46,
     "metadata": {},
     "output_type": "execute_result"
    }
   ],
   "source": [
    "idf(term = \"mr.\", corpus = terms)"
   ]
  },
  {
   "cell_type": "markdown",
   "metadata": {},
   "source": [
    "## 3"
   ]
  },
  {
   "cell_type": "code",
   "execution_count": 47,
   "metadata": {},
   "outputs": [
    {
     "name": "stdout",
     "output_type": "stream",
     "text": [
      "a\n",
      "0.22090655670190631\n",
      "b\n",
      "0.0\n",
      "c\n",
      "0.0\n"
     ]
    }
   ],
   "source": [
    "for key in terms.keys():\n",
    "    print(key)\n",
    "    print(tf_idf(term = \"mr.\", doc = terms[key], corpus = terms))"
   ]
  },
  {
   "cell_type": "markdown",
   "metadata": {},
   "source": [
    "## Part H"
   ]
  },
  {
   "cell_type": "markdown",
   "metadata": {},
   "source": [
    "### 1"
   ]
  },
  {
   "cell_type": "code",
   "execution_count": 48,
   "metadata": {},
   "outputs": [
    {
     "name": "stdout",
     "output_type": "stream",
     "text": [
      "a\n",
      "0.10526315789473684\n",
      "b\n",
      "0.1111111111111111\n",
      "c\n",
      "0.0625\n"
     ]
    }
   ],
   "source": [
    "for key in terms.keys():\n",
    "    print(key)\n",
    "    print(tf(term = \"green\", doc = terms[key]))"
   ]
  },
  {
   "cell_type": "markdown",
   "metadata": {},
   "source": [
    "### 2"
   ]
  },
  {
   "cell_type": "code",
   "execution_count": 49,
   "metadata": {},
   "outputs": [
    {
     "data": {
      "text/plain": [
       "1.0"
      ]
     },
     "execution_count": 49,
     "metadata": {},
     "output_type": "execute_result"
    }
   ],
   "source": [
    "idf(term = \"green\", corpus = terms)"
   ]
  },
  {
   "cell_type": "markdown",
   "metadata": {},
   "source": [
    "### 3"
   ]
  },
  {
   "cell_type": "code",
   "execution_count": 50,
   "metadata": {},
   "outputs": [
    {
     "name": "stdout",
     "output_type": "stream",
     "text": [
      "a\n",
      "0.10526315789473684\n",
      "b\n",
      "0.1111111111111111\n",
      "c\n",
      "0.0625\n"
     ]
    }
   ],
   "source": [
    "for key in terms.keys():\n",
    "    print(key)\n",
    "    print(tf_idf(term = \"green\", doc = terms[key], corpus = terms))"
   ]
  },
  {
   "cell_type": "markdown",
   "metadata": {},
   "source": [
    "## Part I"
   ]
  },
  {
   "cell_type": "code",
   "execution_count": 51,
   "metadata": {},
   "outputs": [
    {
     "name": "stdout",
     "output_type": "stream",
     "text": [
      "a\n",
      "0.3261697145966431\n",
      "b\n",
      "0.1111111111111111\n",
      "c\n",
      "0.0625\n"
     ]
    }
   ],
   "source": [
    "for key in terms.keys():\n",
    "    print(key)\n",
    "    print(tf_idf(term = \"green\", doc = terms[key], corpus = terms) + tf_idf(term = \"mr.\", doc = terms[key], corpus = terms))"
   ]
  },
  {
   "cell_type": "markdown",
   "metadata": {},
   "source": [
    "Best Match is document A"
   ]
  },
  {
   "cell_type": "code",
   "execution_count": null,
   "metadata": {},
   "outputs": [],
   "source": []
  }
 ],
 "metadata": {
  "kernelspec": {
   "display_name": "Python 3",
   "language": "python",
   "name": "python3"
  },
  "language_info": {
   "codemirror_mode": {
    "name": "ipython",
    "version": 3
   },
   "file_extension": ".py",
   "mimetype": "text/x-python",
   "name": "python",
   "nbconvert_exporter": "python",
   "pygments_lexer": "ipython3",
   "version": "3.7.6"
  }
 },
 "nbformat": 4,
 "nbformat_minor": 4
}
