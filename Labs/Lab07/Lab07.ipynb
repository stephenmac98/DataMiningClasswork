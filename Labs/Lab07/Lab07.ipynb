{
 "cells": [
  {
   "cell_type": "markdown",
   "metadata": {},
   "source": [
    "# Lab07 Machine Learning\n",
    "## Stephen Blackwell\n",
    "### 3/3/20"
   ]
  },
  {
   "cell_type": "markdown",
   "metadata": {},
   "source": [
    "## Part A"
   ]
  },
  {
   "cell_type": "code",
   "execution_count": 86,
   "metadata": {},
   "outputs": [],
   "source": [
    "import numpy as np\n",
    "import pandas as pd\n",
    "import matplotlib.pyplot as plt\n",
    "%matplotlib inline\n",
    "from collections import Counter"
   ]
  },
  {
   "cell_type": "markdown",
   "metadata": {},
   "source": [
    "## Part B-C"
   ]
  },
  {
   "cell_type": "code",
   "execution_count": 5,
   "metadata": {},
   "outputs": [
    {
     "data": {
      "text/html": [
       "<div>\n",
       "<style scoped>\n",
       "    .dataframe tbody tr th:only-of-type {\n",
       "        vertical-align: middle;\n",
       "    }\n",
       "\n",
       "    .dataframe tbody tr th {\n",
       "        vertical-align: top;\n",
       "    }\n",
       "\n",
       "    .dataframe thead th {\n",
       "        text-align: right;\n",
       "    }\n",
       "</style>\n",
       "<table border=\"1\" class=\"dataframe\">\n",
       "  <thead>\n",
       "    <tr style=\"text-align: right;\">\n",
       "      <th></th>\n",
       "      <th>ID</th>\n",
       "      <th>Textbook</th>\n",
       "      <th>Videos</th>\n",
       "      <th>Lecture</th>\n",
       "      <th>Discussion</th>\n",
       "      <th>Problems</th>\n",
       "      <th>Proactive</th>\n",
       "      <th>CodeExperience</th>\n",
       "      <th>MotivatedByFun</th>\n",
       "      <th>MotivatedByChallenge</th>\n",
       "      <th>MotivatedByGrades</th>\n",
       "      <th>MotivatedByJob</th>\n",
       "      <th>Grade</th>\n",
       "    </tr>\n",
       "  </thead>\n",
       "  <tbody>\n",
       "    <tr>\n",
       "      <th>0</th>\n",
       "      <td>1</td>\n",
       "      <td>3</td>\n",
       "      <td>4</td>\n",
       "      <td>3</td>\n",
       "      <td>1</td>\n",
       "      <td>2</td>\n",
       "      <td>4</td>\n",
       "      <td>1</td>\n",
       "      <td>4</td>\n",
       "      <td>3</td>\n",
       "      <td>4</td>\n",
       "      <td>4</td>\n",
       "      <td>D</td>\n",
       "    </tr>\n",
       "    <tr>\n",
       "      <th>1</th>\n",
       "      <td>2</td>\n",
       "      <td>2</td>\n",
       "      <td>3</td>\n",
       "      <td>5</td>\n",
       "      <td>4</td>\n",
       "      <td>3</td>\n",
       "      <td>5</td>\n",
       "      <td>1</td>\n",
       "      <td>4</td>\n",
       "      <td>4</td>\n",
       "      <td>4</td>\n",
       "      <td>4</td>\n",
       "      <td>B</td>\n",
       "    </tr>\n",
       "    <tr>\n",
       "      <th>2</th>\n",
       "      <td>3</td>\n",
       "      <td>4</td>\n",
       "      <td>5</td>\n",
       "      <td>5</td>\n",
       "      <td>3</td>\n",
       "      <td>5</td>\n",
       "      <td>3</td>\n",
       "      <td>1</td>\n",
       "      <td>5</td>\n",
       "      <td>4</td>\n",
       "      <td>5</td>\n",
       "      <td>5</td>\n",
       "      <td>C</td>\n",
       "    </tr>\n",
       "    <tr>\n",
       "      <th>3</th>\n",
       "      <td>4</td>\n",
       "      <td>1</td>\n",
       "      <td>5</td>\n",
       "      <td>3</td>\n",
       "      <td>4</td>\n",
       "      <td>3</td>\n",
       "      <td>1</td>\n",
       "      <td>1</td>\n",
       "      <td>4</td>\n",
       "      <td>3</td>\n",
       "      <td>1</td>\n",
       "      <td>3</td>\n",
       "      <td>F</td>\n",
       "    </tr>\n",
       "    <tr>\n",
       "      <th>4</th>\n",
       "      <td>5</td>\n",
       "      <td>4</td>\n",
       "      <td>3</td>\n",
       "      <td>3</td>\n",
       "      <td>2</td>\n",
       "      <td>2</td>\n",
       "      <td>4</td>\n",
       "      <td>2</td>\n",
       "      <td>5</td>\n",
       "      <td>4</td>\n",
       "      <td>5</td>\n",
       "      <td>5</td>\n",
       "      <td>B</td>\n",
       "    </tr>\n",
       "    <tr>\n",
       "      <th>5</th>\n",
       "      <td>6</td>\n",
       "      <td>2</td>\n",
       "      <td>3</td>\n",
       "      <td>4</td>\n",
       "      <td>3</td>\n",
       "      <td>4</td>\n",
       "      <td>3</td>\n",
       "      <td>1</td>\n",
       "      <td>4</td>\n",
       "      <td>4</td>\n",
       "      <td>4</td>\n",
       "      <td>3</td>\n",
       "      <td>D</td>\n",
       "    </tr>\n",
       "  </tbody>\n",
       "</table>\n",
       "</div>"
      ],
      "text/plain": [
       "   ID  Textbook  Videos  Lecture  Discussion  Problems  Proactive  \\\n",
       "0   1         3       4        3           1         2          4   \n",
       "1   2         2       3        5           4         3          5   \n",
       "2   3         4       5        5           3         5          3   \n",
       "3   4         1       5        3           4         3          1   \n",
       "4   5         4       3        3           2         2          4   \n",
       "5   6         2       3        4           3         4          3   \n",
       "\n",
       "   CodeExperience  MotivatedByFun  MotivatedByChallenge  MotivatedByGrades  \\\n",
       "0               1               4                     3                  4   \n",
       "1               1               4                     4                  4   \n",
       "2               1               5                     4                  5   \n",
       "3               1               4                     3                  1   \n",
       "4               2               5                     4                  5   \n",
       "5               1               4                     4                  4   \n",
       "\n",
       "   MotivatedByJob Grade  \n",
       "0               4     D  \n",
       "1               4     B  \n",
       "2               5     C  \n",
       "3               3     F  \n",
       "4               5     B  \n",
       "5               3     D  "
      ]
     },
     "execution_count": 5,
     "metadata": {},
     "output_type": "execute_result"
    }
   ],
   "source": [
    "cs_survey_base = pd.read_csv(\"CS1_survey2.csv\", sep=',')\n",
    "cs_survey_base.head(6)"
   ]
  },
  {
   "cell_type": "markdown",
   "metadata": {},
   "source": [
    "## Part D"
   ]
  },
  {
   "cell_type": "code",
   "execution_count": 30,
   "metadata": {},
   "outputs": [
    {
     "data": {
      "text/html": [
       "<div>\n",
       "<style scoped>\n",
       "    .dataframe tbody tr th:only-of-type {\n",
       "        vertical-align: middle;\n",
       "    }\n",
       "\n",
       "    .dataframe tbody tr th {\n",
       "        vertical-align: top;\n",
       "    }\n",
       "\n",
       "    .dataframe thead th {\n",
       "        text-align: right;\n",
       "    }\n",
       "</style>\n",
       "<table border=\"1\" class=\"dataframe\">\n",
       "  <thead>\n",
       "    <tr style=\"text-align: right;\">\n",
       "      <th></th>\n",
       "      <th>ID</th>\n",
       "      <th>Textbook</th>\n",
       "      <th>Videos</th>\n",
       "      <th>Lecture</th>\n",
       "      <th>Discussion</th>\n",
       "      <th>Problems</th>\n",
       "      <th>Proactive</th>\n",
       "      <th>CodeExperience</th>\n",
       "      <th>MotivatedByFun</th>\n",
       "      <th>MotivatedByChallenge</th>\n",
       "      <th>MotivatedByGrades</th>\n",
       "      <th>MotivatedByJob</th>\n",
       "      <th>Grade</th>\n",
       "    </tr>\n",
       "  </thead>\n",
       "  <tbody>\n",
       "    <tr>\n",
       "      <th>54</th>\n",
       "      <td>55.0</td>\n",
       "      <td>2.0</td>\n",
       "      <td>5.0</td>\n",
       "      <td>4.0</td>\n",
       "      <td>2.0</td>\n",
       "      <td>2.0</td>\n",
       "      <td>4.0</td>\n",
       "      <td>1.0</td>\n",
       "      <td>5.0</td>\n",
       "      <td>3.0</td>\n",
       "      <td>5.0</td>\n",
       "      <td>5.0</td>\n",
       "      <td>C</td>\n",
       "    </tr>\n",
       "    <tr>\n",
       "      <th>23</th>\n",
       "      <td>24.0</td>\n",
       "      <td>4.0</td>\n",
       "      <td>3.0</td>\n",
       "      <td>4.0</td>\n",
       "      <td>5.0</td>\n",
       "      <td>2.0</td>\n",
       "      <td>5.0</td>\n",
       "      <td>1.0</td>\n",
       "      <td>5.0</td>\n",
       "      <td>3.0</td>\n",
       "      <td>5.0</td>\n",
       "      <td>4.0</td>\n",
       "      <td>B</td>\n",
       "    </tr>\n",
       "    <tr>\n",
       "      <th>33</th>\n",
       "      <td>34.0</td>\n",
       "      <td>4.0</td>\n",
       "      <td>4.0</td>\n",
       "      <td>3.0</td>\n",
       "      <td>2.0</td>\n",
       "      <td>4.0</td>\n",
       "      <td>1.0</td>\n",
       "      <td>1.0</td>\n",
       "      <td>5.0</td>\n",
       "      <td>5.0</td>\n",
       "      <td>5.0</td>\n",
       "      <td>4.0</td>\n",
       "      <td>F</td>\n",
       "    </tr>\n",
       "    <tr>\n",
       "      <th>42</th>\n",
       "      <td>43.0</td>\n",
       "      <td>2.0</td>\n",
       "      <td>5.0</td>\n",
       "      <td>2.0</td>\n",
       "      <td>3.0</td>\n",
       "      <td>3.0</td>\n",
       "      <td>3.0</td>\n",
       "      <td>1.0</td>\n",
       "      <td>5.0</td>\n",
       "      <td>4.0</td>\n",
       "      <td>5.0</td>\n",
       "      <td>4.0</td>\n",
       "      <td>D</td>\n",
       "    </tr>\n",
       "    <tr>\n",
       "      <th>39</th>\n",
       "      <td>40.0</td>\n",
       "      <td>4.0</td>\n",
       "      <td>4.0</td>\n",
       "      <td>5.0</td>\n",
       "      <td>3.0</td>\n",
       "      <td>1.0</td>\n",
       "      <td>4.0</td>\n",
       "      <td>1.0</td>\n",
       "      <td>5.0</td>\n",
       "      <td>3.0</td>\n",
       "      <td>3.0</td>\n",
       "      <td>4.0</td>\n",
       "      <td>C</td>\n",
       "    </tr>\n",
       "    <tr>\n",
       "      <th>14</th>\n",
       "      <td>15.0</td>\n",
       "      <td>3.0</td>\n",
       "      <td>3.0</td>\n",
       "      <td>3.0</td>\n",
       "      <td>3.0</td>\n",
       "      <td>3.0</td>\n",
       "      <td>2.0</td>\n",
       "      <td>1.0</td>\n",
       "      <td>3.0</td>\n",
       "      <td>2.0</td>\n",
       "      <td>3.0</td>\n",
       "      <td>3.0</td>\n",
       "      <td>F</td>\n",
       "    </tr>\n",
       "    <tr>\n",
       "      <th>40</th>\n",
       "      <td>41.0</td>\n",
       "      <td>2.0</td>\n",
       "      <td>2.0</td>\n",
       "      <td>3.0</td>\n",
       "      <td>4.0</td>\n",
       "      <td>4.0</td>\n",
       "      <td>3.0</td>\n",
       "      <td>2.0</td>\n",
       "      <td>5.0</td>\n",
       "      <td>4.0</td>\n",
       "      <td>5.0</td>\n",
       "      <td>5.0</td>\n",
       "      <td>B</td>\n",
       "    </tr>\n",
       "    <tr>\n",
       "      <th>31</th>\n",
       "      <td>32.0</td>\n",
       "      <td>1.0</td>\n",
       "      <td>5.0</td>\n",
       "      <td>3.0</td>\n",
       "      <td>5.0</td>\n",
       "      <td>5.0</td>\n",
       "      <td>3.0</td>\n",
       "      <td>2.0</td>\n",
       "      <td>5.0</td>\n",
       "      <td>4.0</td>\n",
       "      <td>4.0</td>\n",
       "      <td>4.0</td>\n",
       "      <td>B</td>\n",
       "    </tr>\n",
       "    <tr>\n",
       "      <th>35</th>\n",
       "      <td>36.0</td>\n",
       "      <td>1.0</td>\n",
       "      <td>5.0</td>\n",
       "      <td>2.0</td>\n",
       "      <td>3.0</td>\n",
       "      <td>5.0</td>\n",
       "      <td>4.0</td>\n",
       "      <td>1.0</td>\n",
       "      <td>5.0</td>\n",
       "      <td>2.0</td>\n",
       "      <td>5.0</td>\n",
       "      <td>5.0</td>\n",
       "      <td>C</td>\n",
       "    </tr>\n",
       "    <tr>\n",
       "      <th>48</th>\n",
       "      <td>49.0</td>\n",
       "      <td>4.0</td>\n",
       "      <td>4.0</td>\n",
       "      <td>1.0</td>\n",
       "      <td>2.0</td>\n",
       "      <td>3.0</td>\n",
       "      <td>2.0</td>\n",
       "      <td>1.0</td>\n",
       "      <td>4.0</td>\n",
       "      <td>3.0</td>\n",
       "      <td>3.0</td>\n",
       "      <td>4.0</td>\n",
       "      <td>D</td>\n",
       "    </tr>\n",
       "  </tbody>\n",
       "</table>\n",
       "</div>"
      ],
      "text/plain": [
       "      ID  Textbook  Videos  Lecture  Discussion  Problems  Proactive  \\\n",
       "54  55.0       2.0     5.0      4.0         2.0       2.0        4.0   \n",
       "23  24.0       4.0     3.0      4.0         5.0       2.0        5.0   \n",
       "33  34.0       4.0     4.0      3.0         2.0       4.0        1.0   \n",
       "42  43.0       2.0     5.0      2.0         3.0       3.0        3.0   \n",
       "39  40.0       4.0     4.0      5.0         3.0       1.0        4.0   \n",
       "14  15.0       3.0     3.0      3.0         3.0       3.0        2.0   \n",
       "40  41.0       2.0     2.0      3.0         4.0       4.0        3.0   \n",
       "31  32.0       1.0     5.0      3.0         5.0       5.0        3.0   \n",
       "35  36.0       1.0     5.0      2.0         3.0       5.0        4.0   \n",
       "48  49.0       4.0     4.0      1.0         2.0       3.0        2.0   \n",
       "\n",
       "    CodeExperience  MotivatedByFun  MotivatedByChallenge  MotivatedByGrades  \\\n",
       "54             1.0             5.0                   3.0                5.0   \n",
       "23             1.0             5.0                   3.0                5.0   \n",
       "33             1.0             5.0                   5.0                5.0   \n",
       "42             1.0             5.0                   4.0                5.0   \n",
       "39             1.0             5.0                   3.0                3.0   \n",
       "14             1.0             3.0                   2.0                3.0   \n",
       "40             2.0             5.0                   4.0                5.0   \n",
       "31             2.0             5.0                   4.0                4.0   \n",
       "35             1.0             5.0                   2.0                5.0   \n",
       "48             1.0             4.0                   3.0                3.0   \n",
       "\n",
       "    MotivatedByJob Grade  \n",
       "54             5.0     C  \n",
       "23             4.0     B  \n",
       "33             4.0     F  \n",
       "42             4.0     D  \n",
       "39             4.0     C  \n",
       "14             3.0     F  \n",
       "40             5.0     B  \n",
       "31             4.0     B  \n",
       "35             5.0     C  \n",
       "48             4.0     D  "
      ]
     },
     "execution_count": 30,
     "metadata": {},
     "output_type": "execute_result"
    }
   ],
   "source": [
    "cs_random = cs_survey_base.reindex(np.random.permutation(cs_survey_base['ID']))\n",
    "cs_random.head(10)"
   ]
  },
  {
   "cell_type": "code",
   "execution_count": 31,
   "metadata": {},
   "outputs": [
    {
     "data": {
      "text/plain": [
       "['ID',\n",
       " 'Textbook',\n",
       " 'Videos',\n",
       " 'Lecture',\n",
       " 'Discussion',\n",
       " 'Problems',\n",
       " 'Proactive',\n",
       " 'CodeExperience',\n",
       " 'MotivatedByFun',\n",
       " 'MotivatedByChallenge',\n",
       " 'MotivatedByGrades',\n",
       " 'MotivatedByJob',\n",
       " 'Grade']"
      ]
     },
     "execution_count": 31,
     "metadata": {},
     "output_type": "execute_result"
    }
   ],
   "source": [
    "cs_categories = list(cs_random.columns.values)\n",
    "cs_categories"
   ]
  },
  {
   "cell_type": "code",
   "execution_count": 33,
   "metadata": {},
   "outputs": [],
   "source": [
    "cs_target = cs_random['Grade']"
   ]
  },
  {
   "cell_type": "code",
   "execution_count": 32,
   "metadata": {},
   "outputs": [
    {
     "data": {
      "text/plain": [
       "['Textbook',\n",
       " 'Videos',\n",
       " 'Lecture',\n",
       " 'Discussion',\n",
       " 'Problems',\n",
       " 'Proactive',\n",
       " 'CodeExperience',\n",
       " 'MotivatedByFun',\n",
       " 'MotivatedByChallenge',\n",
       " 'MotivatedByGrades',\n",
       " 'MotivatedByJob']"
      ]
     },
     "execution_count": 32,
     "metadata": {},
     "output_type": "execute_result"
    }
   ],
   "source": [
    "cs_categories.remove(\"ID\")\n",
    "cs_categories.remove(\"Grade\")\n",
    "cs_categories"
   ]
  },
  {
   "cell_type": "code",
   "execution_count": 56,
   "metadata": {},
   "outputs": [
    {
     "data": {
      "text/plain": [
       "(55, 11)"
      ]
     },
     "execution_count": 56,
     "metadata": {},
     "output_type": "execute_result"
    }
   ],
   "source": [
    "cs = cs_random[cs_categories]\n",
    "cs.shape"
   ]
  },
  {
   "cell_type": "code",
   "execution_count": 57,
   "metadata": {},
   "outputs": [],
   "source": [
    "tpercent = 0.8\n",
    "\n",
    "tsize = int(np.floor(tpercent * len(cs)))\n",
    "cs_train = cs[:tsize]\n",
    "cs_test = cs[tsize:]"
   ]
  },
  {
   "cell_type": "code",
   "execution_count": 58,
   "metadata": {},
   "outputs": [
    {
     "name": "stdout",
     "output_type": "stream",
     "text": [
      "(44, 11)\n",
      "(11, 11)\n"
     ]
    }
   ],
   "source": [
    "print(cs_train.shape)\n",
    "print(cs_test.shape)"
   ]
  },
  {
   "cell_type": "code",
   "execution_count": 59,
   "metadata": {},
   "outputs": [],
   "source": [
    "cs_target_train = cs_target[0:tsize]\n",
    "cs_target_test = cs_target[tsize:len(cs_random)]"
   ]
  },
  {
   "cell_type": "code",
   "execution_count": 60,
   "metadata": {},
   "outputs": [
    {
     "data": {
      "text/plain": [
       "54    C\n",
       "23    B\n",
       "33    F\n",
       "42    D\n",
       "39    C\n",
       "Name: Grade, dtype: object"
      ]
     },
     "execution_count": 60,
     "metadata": {},
     "output_type": "execute_result"
    }
   ],
   "source": [
    "cs_target_train.head()"
   ]
  },
  {
   "cell_type": "code",
   "execution_count": 61,
   "metadata": {},
   "outputs": [
    {
     "data": {
      "text/plain": [
       "53    D\n",
       "30    B\n",
       "51    A\n",
       "9     B\n",
       "47    A\n",
       "Name: Grade, dtype: object"
      ]
     },
     "execution_count": 61,
     "metadata": {},
     "output_type": "execute_result"
    }
   ],
   "source": [
    "cs_target_test.head()"
   ]
  },
  {
   "cell_type": "code",
   "execution_count": 62,
   "metadata": {},
   "outputs": [],
   "source": [
    "cs_data_train = cs_train.values\n",
    "cs_data_test = cs_test.values\n",
    "cs_target_train = cs_target_train.values\n",
    "cs_target_test = cs_target_test.values"
   ]
  },
  {
   "cell_type": "code",
   "execution_count": 46,
   "metadata": {},
   "outputs": [
    {
     "name": "stdout",
     "output_type": "stream",
     "text": [
      "['C' 'B' 'F' 'D' 'C' 'F' 'B' 'B' 'C' 'D' 'C' 'D' 'F' 'C' 'B' 'C' 'C' 'D' 'A' 'C' 'C' 'B' 'D' 'C'\n",
      " 'B' 'D' 'D' 'A' 'C' 'B' 'C' 'B' 'B' 'B' 'B' 'C' 'C' 'A' 'B' nan 'B' 'A' 'B' 'A']\n",
      "\n",
      "['D' 'B' 'A' 'B' 'A' 'C' 'B' 'A' 'B' 'C' 'F']\n",
      "\n"
     ]
    },
    {
     "data": {
      "text/plain": [
       "array([[55.0, 2.0, 5.0, 4.0, 2.0, 2.0, 4.0, 1.0, 5.0, 3.0, 5.0, 5.0, 'C'],\n",
       "       [24.0, 4.0, 3.0, 4.0, 5.0, 2.0, 5.0, 1.0, 5.0, 3.0, 5.0, 4.0, 'B'],\n",
       "       [34.0, 4.0, 4.0, 3.0, 2.0, 4.0, 1.0, 1.0, 5.0, 5.0, 5.0, 4.0, 'F'],\n",
       "       [43.0, 2.0, 5.0, 2.0, 3.0, 3.0, 3.0, 1.0, 5.0, 4.0, 5.0, 4.0, 'D'],\n",
       "       [40.0, 4.0, 4.0, 5.0, 3.0, 1.0, 4.0, 1.0, 5.0, 3.0, 3.0, 4.0, 'C'],\n",
       "       [15.0, 3.0, 3.0, 3.0, 3.0, 3.0, 2.0, 1.0, 3.0, 2.0, 3.0, 3.0, 'F'],\n",
       "       [41.0, 2.0, 2.0, 3.0, 4.0, 4.0, 3.0, 2.0, 5.0, 4.0, 5.0, 5.0, 'B'],\n",
       "       [32.0, 1.0, 5.0, 3.0, 5.0, 5.0, 3.0, 2.0, 5.0, 4.0, 4.0, 4.0, 'B'],\n",
       "       [36.0, 1.0, 5.0, 2.0, 3.0, 5.0, 4.0, 1.0, 5.0, 2.0, 5.0, 5.0, 'C'],\n",
       "       [49.0, 4.0, 4.0, 1.0, 2.0, 3.0, 2.0, 1.0, 4.0, 3.0, 3.0, 4.0, 'D']], dtype=object)"
      ]
     },
     "execution_count": 46,
     "metadata": {},
     "output_type": "execute_result"
    }
   ],
   "source": [
    "np.set_printoptions(precision=2, linewidth=100)\n",
    "\n",
    "print(cs_target_train)\n",
    "print()\n",
    "print(cs_target_test)\n",
    "print()\n",
    "cs_data_train[:10]"
   ]
  },
  {
   "cell_type": "code",
   "execution_count": 63,
   "metadata": {},
   "outputs": [],
   "source": [
    "def knn_search(x, D, K, measure):\n",
    "    if measure == 0:\n",
    "        # euclidean distances from the other points\n",
    "        dists = np.sqrt(((D - x)**2).sum(axis=1))\n",
    "    elif measure == 1:\n",
    "        # manhattan distances from the other points\n",
    "        dists = (np.abs(D-x)).sum(axis=1)\n",
    "    # This line finds the indexes of the sorted distances.\n",
    "    idx = np.argsort(dists) # sorting\n",
    "    # return the indexes of K nearest neighbors and the distances\n",
    "    return idx[:K], dists"
   ]
  },
  {
   "cell_type": "code",
   "execution_count": 91,
   "metadata": {},
   "outputs": [
    {
     "name": "stdout",
     "output_type": "stream",
     "text": [
      "[('C', 3)]\n",
      "[('C', 3)]\n",
      "[('B', 3)]\n",
      "[('B', 3)]\n",
      "[('C', 3)]\n",
      "[('C', 3)]\n",
      "[('C', 3)]\n",
      "[('A', 3)]\n",
      "[('C', 4)]\n",
      "[('C', 3)]\n",
      "[('C', 3)]\n"
     ]
    }
   ],
   "source": [
    "cs_data_test['']\n",
    "for i in range(len(cs_data_test)):\n",
    "    neigh_idx, distances = knn_search(cs_data_test[i], cs_data_train, 5, 0)\n",
    "    neigh_labels = cs_target_train[neigh_idx]\n",
    "    counts = Counter(neigh_labels)\n",
    "    print(Counter(neigh_labels).most_common(1))"
   ]
  },
  {
   "cell_type": "code",
   "execution_count": 111,
   "metadata": {},
   "outputs": [
    {
     "name": "stdout",
     "output_type": "stream",
     "text": [
      "1.4\n",
      "2.2\n",
      "3.4\n",
      "2.6\n",
      "2.6\n",
      "1.6\n",
      "2.0\n",
      "3.6\n",
      "1.8\n",
      "2.4\n",
      "1.4\n"
     ]
    }
   ],
   "source": [
    "for i in range(len(cs_data_test)):\n",
    "    k = 5\n",
    "    neigh_idx, distances = knn_search(cs_data_test[i], cs_data_train, k, 0)\n",
    "    neigh_labels = cs_target_train[neigh_idx]\n",
    "    counts = Counter(neigh_labels)\n",
    "    gradesValues = {'A': 4, 'B': 3,'C': 2, 'D': 1, 'F': 0}\n",
    "    grade = 0\n",
    "    for key in gradesValues.keys():\n",
    "        for item in counts.keys():\n",
    "            if(item == key):\n",
    "                add = counts[item] * gradesValues[key]\n",
    "                grade = grade + add\n",
    "    grade = grade / k\n",
    "    print(grade)"
   ]
  },
  {
   "cell_type": "code",
   "execution_count": null,
   "metadata": {},
   "outputs": [],
   "source": []
  },
  {
   "cell_type": "code",
   "execution_count": null,
   "metadata": {},
   "outputs": [],
   "source": []
  }
 ],
 "metadata": {
  "kernelspec": {
   "display_name": "Python [conda env:dmml] *",
   "language": "python",
   "name": "conda-env-dmml-py"
  },
  "language_info": {
   "codemirror_mode": {
    "name": "ipython",
    "version": 3
   },
   "file_extension": ".py",
   "mimetype": "text/x-python",
   "name": "python",
   "nbconvert_exporter": "python",
   "pygments_lexer": "ipython3",
   "version": "3.7.6"
  }
 },
 "nbformat": 4,
 "nbformat_minor": 4
}
