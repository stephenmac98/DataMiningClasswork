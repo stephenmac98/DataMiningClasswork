{
 "cells": [
  {
   "cell_type": "markdown",
   "metadata": {},
   "source": [
    "# Lab08 Machine Learning\n",
    "## Stephen Blackwell\n",
    "### 3/3/20"
   ]
  },
  {
   "cell_type": "markdown",
   "metadata": {},
   "source": [
    "## Part A"
   ]
  },
  {
   "cell_type": "code",
   "execution_count": 17,
   "metadata": {},
   "outputs": [],
   "source": [
    "import numpy as np\n",
    "import pandas as pd\n",
    "import matplotlib.pyplot as plt\n",
    "import math\n",
    "%matplotlib inline"
   ]
  },
  {
   "cell_type": "markdown",
   "metadata": {},
   "source": [
    "## Part B-C"
   ]
  },
  {
   "cell_type": "code",
   "execution_count": 6,
   "metadata": {},
   "outputs": [
    {
     "data": {
      "text/html": [
       "<div>\n",
       "<style scoped>\n",
       "    .dataframe tbody tr th:only-of-type {\n",
       "        vertical-align: middle;\n",
       "    }\n",
       "\n",
       "    .dataframe tbody tr th {\n",
       "        vertical-align: top;\n",
       "    }\n",
       "\n",
       "    .dataframe thead th {\n",
       "        text-align: right;\n",
       "    }\n",
       "</style>\n",
       "<table border=\"1\" class=\"dataframe\">\n",
       "  <thead>\n",
       "    <tr style=\"text-align: right;\">\n",
       "      <th></th>\n",
       "      <th>Cust ID</th>\n",
       "      <th>Gender</th>\n",
       "      <th>Income</th>\n",
       "      <th>Age</th>\n",
       "      <th>Rentals</th>\n",
       "      <th>Avg Per Visit</th>\n",
       "      <th>Genre</th>\n",
       "      <th>Incidentals</th>\n",
       "    </tr>\n",
       "  </thead>\n",
       "  <tbody>\n",
       "    <tr>\n",
       "      <th>0</th>\n",
       "      <td>1</td>\n",
       "      <td>M</td>\n",
       "      <td>45000</td>\n",
       "      <td>25</td>\n",
       "      <td>32</td>\n",
       "      <td>2.5</td>\n",
       "      <td>Action</td>\n",
       "      <td>Yes</td>\n",
       "    </tr>\n",
       "    <tr>\n",
       "      <th>1</th>\n",
       "      <td>2</td>\n",
       "      <td>F</td>\n",
       "      <td>54000</td>\n",
       "      <td>33</td>\n",
       "      <td>12</td>\n",
       "      <td>3.4</td>\n",
       "      <td>Drama</td>\n",
       "      <td>No</td>\n",
       "    </tr>\n",
       "    <tr>\n",
       "      <th>2</th>\n",
       "      <td>3</td>\n",
       "      <td>F</td>\n",
       "      <td>32000</td>\n",
       "      <td>20</td>\n",
       "      <td>42</td>\n",
       "      <td>1.6</td>\n",
       "      <td>Comedy</td>\n",
       "      <td>No</td>\n",
       "    </tr>\n",
       "    <tr>\n",
       "      <th>3</th>\n",
       "      <td>4</td>\n",
       "      <td>F</td>\n",
       "      <td>59000</td>\n",
       "      <td>70</td>\n",
       "      <td>16</td>\n",
       "      <td>4.2</td>\n",
       "      <td>Drama</td>\n",
       "      <td>Yes</td>\n",
       "    </tr>\n",
       "    <tr>\n",
       "      <th>4</th>\n",
       "      <td>5</td>\n",
       "      <td>M</td>\n",
       "      <td>37000</td>\n",
       "      <td>35</td>\n",
       "      <td>25</td>\n",
       "      <td>3.2</td>\n",
       "      <td>Action</td>\n",
       "      <td>Yes</td>\n",
       "    </tr>\n",
       "  </tbody>\n",
       "</table>\n",
       "</div>"
      ],
      "text/plain": [
       "   Cust ID Gender  Income  Age  Rentals  Avg Per Visit   Genre Incidentals\n",
       "0        1      M   45000   25       32            2.5  Action         Yes\n",
       "1        2      F   54000   33       12            3.4   Drama          No\n",
       "2        3      F   32000   20       42            1.6  Comedy          No\n",
       "3        4      F   59000   70       16            4.2   Drama         Yes\n",
       "4        5      M   37000   35       25            3.2  Action         Yes"
      ]
     },
     "execution_count": 6,
     "metadata": {},
     "output_type": "execute_result"
    }
   ],
   "source": [
    "video_store = pd.read_csv(\"Video_Store_2.csv\", sep=',')\n",
    "video_store.head(5)"
   ]
  },
  {
   "cell_type": "markdown",
   "metadata": {},
   "source": [
    "## Part D"
   ]
  },
  {
   "cell_type": "code",
   "execution_count": 48,
   "metadata": {},
   "outputs": [],
   "source": [
    "def entropyCategory(n1 = 0, nTot = 0):\n",
    "    p = n1 / nTot\n",
    "    return p * math.log(p, 2)\n",
    "\n",
    "def entropy(inp = np.array):\n",
    "    entropy = 0\n",
    "    categoryCounts = {}\n",
    "    for item in inp:\n",
    "        if item not in categoryCounts.keys():\n",
    "            categoryCounts[item] = 1\n",
    "        else:\n",
    "            categoryCounts[item] = categoryCounts[item] + 1\n",
    "    for key in categoryCounts.keys():\n",
    "        entropy = entropy - entropyCategory(categoryCounts[key], len(inp))\n",
    "    return entropy"
   ]
  },
  {
   "cell_type": "markdown",
   "metadata": {},
   "source": [
    "## Part E"
   ]
  },
  {
   "cell_type": "markdown",
   "metadata": {},
   "source": [
    "## SubPart I"
   ]
  },
  {
   "cell_type": "code",
   "execution_count": 50,
   "metadata": {},
   "outputs": [
    {
     "name": "stdout",
     "output_type": "stream",
     "text": [
      "1.0\n"
     ]
    }
   ],
   "source": [
    "print(entropy(np.array(['Yes', 'No', 'Yes', 'No']))) # 1.0"
   ]
  },
  {
   "cell_type": "markdown",
   "metadata": {},
   "source": [
    "## SubPart II"
   ]
  },
  {
   "cell_type": "code",
   "execution_count": 49,
   "metadata": {},
   "outputs": [
    {
     "name": "stdout",
     "output_type": "stream",
     "text": [
      "0.8112781244591328\n"
     ]
    }
   ],
   "source": [
    "print(entropy(np.array(['Yes', 'Yes', 'Yes', 'No'])))  # 0.8112781244591328"
   ]
  },
  {
   "cell_type": "markdown",
   "metadata": {},
   "source": [
    "## SubPart III"
   ]
  },
  {
   "cell_type": "code",
   "execution_count": 51,
   "metadata": {},
   "outputs": [
    {
     "name": "stdout",
     "output_type": "stream",
     "text": [
      "0.0\n"
     ]
    }
   ],
   "source": [
    "print(entropy(np.array(['Yes', 'Yes', 'Yes', 'Yes'])))  # 0.0\n"
   ]
  },
  {
   "cell_type": "markdown",
   "metadata": {},
   "source": [
    "## Part F"
   ]
  },
  {
   "cell_type": "code",
   "execution_count": 53,
   "metadata": {},
   "outputs": [
    {
     "name": "stdout",
     "output_type": "stream",
     "text": [
      "0.9988455359952018\n"
     ]
    }
   ],
   "source": [
    "print(entropy(video_store['Incidentals']))  # 0.9988"
   ]
  },
  {
   "cell_type": "markdown",
   "metadata": {},
   "source": [
    "## Part G"
   ]
  },
  {
   "cell_type": "markdown",
   "metadata": {},
   "source": [
    "## SubPart I"
   ]
  },
  {
   "cell_type": "code",
   "execution_count": 62,
   "metadata": {},
   "outputs": [],
   "source": [
    "action = video_store[video_store[\"Genre\"] == \"Action\"]\n",
    "comedy = video_store[video_store[\"Genre\"] == \"Comedy\"]\n",
    "drama = video_store[video_store[\"Genre\"] == \"Drama\"]"
   ]
  },
  {
   "cell_type": "markdown",
   "metadata": {},
   "source": [
    "## SubPart II"
   ]
  },
  {
   "cell_type": "code",
   "execution_count": 68,
   "metadata": {},
   "outputs": [
    {
     "name": "stdout",
     "output_type": "stream",
     "text": [
      "Action:  0.9644111117521389\n",
      "Comedy:  0.43839067638965634\n",
      "Drama:  1.0\n"
     ]
    }
   ],
   "source": [
    "actionE = entropySet(action['Incidentals'])\n",
    "comedyE = entropySet(comedy['Incidentals'])\n",
    "dramaE = entropySet(drama['Incidentals'])\n",
    "\n",
    "print(\"Action: \", actionE)\n",
    "print(\"Comedy: \", comedyE)\n",
    "print(\"Drama: \", dramaE)"
   ]
  },
  {
   "cell_type": "markdown",
   "metadata": {},
   "source": [
    "## SubPart III"
   ]
  },
  {
   "cell_type": "code",
   "execution_count": 70,
   "metadata": {},
   "outputs": [
    {
     "name": "stdout",
     "output_type": "stream",
     "text": [
      "0.16413617892713817\n"
     ]
    }
   ],
   "source": [
    "wAction = len(action) / len(video_store)\n",
    "wComedy = len(comedy) / len(video_store)\n",
    "wDrama = len(drama) / len(video_store)\n",
    "\n",
    "\n",
    "InformationGain = entropySet(video_store['Incidentals']) - ((wAction * actionE) + (wComedy * comedyE) + (wDrama * dramaE))\n",
    "print(InformationGain)"
   ]
  },
  {
   "cell_type": "markdown",
   "metadata": {},
   "source": [
    "## Part H"
   ]
  },
  {
   "cell_type": "code",
   "execution_count": 71,
   "metadata": {},
   "outputs": [
    {
     "data": {
      "text/plain": [
       "<matplotlib.axes._subplots.AxesSubplot at 0x111a594d0>"
      ]
     },
     "execution_count": 71,
     "metadata": {},
     "output_type": "execute_result"
    },
    {
     "data": {
      "image/png": "[encoded data removed]",
      "text/plain": [
       "<Figure size 432x288 with 1 Axes>"
      ]
     },
     "metadata": {
      "needs_background": "light"
     },
     "output_type": "display_data"
    }
   ],
   "source": [
    "video_store['Income'].hist(bins=10)"
   ]
  },
  {
   "cell_type": "code",
   "execution_count": 79,
   "metadata": {},
   "outputs": [],
   "source": [
    "video_store['Income_bins'] = pd.qcut(video_store['Income'], 2, labels=[\"low\", \"high\"])"
   ]
  },
  {
   "cell_type": "code",
   "execution_count": 81,
   "metadata": {},
   "outputs": [],
   "source": [
    "high = video_store[video_store[\"Income_bins\"] == \"high\"]\n",
    "low = video_store[video_store[\"Income_bins\"] == \"low\"]"
   ]
  },
  {
   "cell_type": "code",
   "execution_count": 85,
   "metadata": {},
   "outputs": [
    {
     "name": "stdout",
     "output_type": "stream",
     "text": [
      "0.010542530768122838\n"
     ]
    }
   ],
   "source": [
    "highE = entropySet(high['Incidentals'])\n",
    "lowE = entropySet(low['Incidentals'])\n",
    "\n",
    "wHigh = len(high) / len(video_store)\n",
    "wLow = len(low) / len(video_store)\n",
    "\n",
    "\n",
    "InformationGainIncome = entropySet(video_store['Incidentals']) - ((wHigh * highE) + (wLow * lowE))\n",
    "print(InformationGainIncome)"
   ]
  },
  {
   "cell_type": "code",
   "execution_count": null,
   "metadata": {},
   "outputs": [],
   "source": []
  }
 ],
 "metadata": {
  "kernelspec": {
   "display_name": "Python 3",
   "language": "python",
   "name": "python3"
  },
  "language_info": {
   "codemirror_mode": {
    "name": "ipython",
    "version": 3
   },
   "file_extension": ".py",
   "mimetype": "text/x-python",
   "name": "python",
   "nbconvert_exporter": "python",
   "pygments_lexer": "ipython3",
   "version": "3.7.4"
  }
 },
 "nbformat": 4,
 "nbformat_minor": 4
}
